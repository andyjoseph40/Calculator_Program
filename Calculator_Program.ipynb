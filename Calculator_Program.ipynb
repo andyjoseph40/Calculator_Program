{
 "cells": [
  {
   "cell_type": "code",
   "execution_count": 5,
   "id": "3261a606",
   "metadata": {},
   "outputs": [],
   "source": [
    "# Creating four basic mathematical functions that take in two numbers and return the result of the operation.\n",
    "\n",
    "# Function for addition\n",
    "def add(x, y):\n",
    "    return x + y\n",
    "\n",
    "# Function for subtraction\n",
    "def subtract(x, y):\n",
    "    return x - y\n",
    "\n",
    "# Function for multiplication\n",
    "def multiply(x, y):\n",
    "    return x * y\n",
    "\n",
    "# Function for Division\n",
    "def divide(x, y):\n",
    "    return x / y\n"
   ]
  },
  {
   "cell_type": "code",
   "execution_count": 6,
   "id": "2b86c2dd",
   "metadata": {},
   "outputs": [],
   "source": [
    "# Creating a dictionary 'operations' that assigns the functions to their corresponding operation symbols.\n",
    "\n",
    "operations = {\"+\":add, \"-\":subtract, \"*\":multiply, \"/\":divide}"
   ]
  },
  {
   "cell_type": "code",
   "execution_count": null,
   "id": "364cea50",
   "metadata": {},
   "outputs": [],
   "source": [
    "##### creating a function calculator that prompts the user to input first number\n",
    "first_number = float(input(\"Enter your first number: \"))\n",
    "\n",
    "#using for loop to print the available symbols\n",
    "#calling the function operations\n",
    "operations = { \"+\" : add, \"-\":subtract, \"*\": multiply, \"/\": divide}\n",
    "\n",
    "#we have to create a list to store the operators so that we can return it.\n",
    "def operators(operations):\n",
    "    list = []\n",
    "    for key in operations.keys(): #The arithmetic operators were made the keys so that we can call it out.\n",
    "        list.append(key) #the operators were put in a list so that it can be referenced later\n",
    "    return list\n",
    "\n",
    "\n",
    "#using while loop to continue to run till the user chooses to end the current calculation\n",
    "def calculator():\n",
    "    first_number #calling the first number variable\n",
    "\n",
    "while True:\n",
    "    calculator() #calling the calculation function (to prompt the first num)\n",
    "    user_input = input(\"Enter '+', '-', '*', or '/' to perform calculations or quit to end: \\n\")\n",
    "    if user_input == \"quit\":\n",
    "        break\n",
    "    elif user_input == \"+\" or \"-\" or \"*\" or \"/\":\n",
    "        second_number = float(input(\"Enter your second number: \")) #inputing the second_num to continue the mathematical operation\n",
    "    else:\n",
    "        print(\"invalid mathemtical operator\")\n",
    "\n",
    "\n",
    "#retrieving function that corresponds to the selected operator and creating a varaible \"calculation function\"\n",
    "    if user_input in operations:\n",
    "        calculation_function = operations[user_input]\n",
    "\n",
    "#storing the result in variable function \"answer\" after performing the calcuation on two numbers\n",
    "        answer = calculation_function(first_number, second_number)\n",
    "\n",
    "#printing out our calculation\n",
    "\n",
    "        print(f\" {answer}  =  {first_number} {user_input} {second_number}\")\n",
    "\n",
    "#asking the user if he wants to use the first_num to continue\n",
    "        continue_first_number = input(\"Do you want to continue using the first num(Y for Yes, N for NO)?  \\n\")\n",
    "    if continue_first_number == \"Y\":\n",
    "        first_number = answer\n",
    "        print(f\"result = {first_number}\")\n",
    "        continue\n",
    "\n",
    "    elif continue_first_number == \"N\":\n",
    "        first_number = input(\"Enter your first number: \")\n",
    "        continue\n",
    "\n",
    "    else:\n",
    "        break #ENTER SPACE TO BREAK\n"
   ]
  },
  {
   "cell_type": "code",
   "execution_count": null,
   "id": "9c38f3c2",
   "metadata": {},
   "outputs": [],
   "source": []
  }
 ],
 "metadata": {
  "kernelspec": {
   "display_name": "Python 3 (ipykernel)",
   "language": "python",
   "name": "python3"
  },
  "language_info": {
   "codemirror_mode": {
    "name": "ipython",
    "version": 3
   },
   "file_extension": ".py",
   "mimetype": "text/x-python",
   "name": "python",
   "nbconvert_exporter": "python",
   "pygments_lexer": "ipython3",
   "version": "3.11.5"
  }
 },
 "nbformat": 4,
 "nbformat_minor": 5
}
